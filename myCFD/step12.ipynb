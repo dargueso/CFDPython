{
 "cells": [
  {
   "cell_type": "code",
   "execution_count": 1,
   "metadata": {},
   "outputs": [],
   "source": [
    "import numpy as np\n",
    "import matplotlib.pyplot as plt\n",
    "from matplotlib import cm\n",
    "from mpl_toolkits.mplot3d import Axes3D\n",
    "\n",
    "%matplotlib inline"
   ]
  },
  {
   "cell_type": "code",
   "execution_count": null,
   "metadata": {},
   "outputs": [],
   "source": [
    "def build_up_b (rho, dt, dx, dy, u, v):\n",
    "    b = np.zeros_like(u)\n",
    "    \n",
    "    b[1:-1, 1:-1] = rho * (1 / dt * (( u[1:-1,2:]-u[1:-1,:-2])/(2 * dx) +\n",
    "                                     ( v[2:,1:-1]-v[:-2,1:-1])/(2 * dy)) -   \n",
    "                                    ((u[1:-1, 2:] - u[1:-1, 0:-2]) / (2 * dx))**2 -\n",
    "                                    2 * ((u[2:, 1:-1] - u[0:-2, 1:-1]) / (2 * dy) *\n",
    "                                    (v[1:-1, 2:] - v[1:-1, 0:-2]) / (2 * dx))-\n",
    "                                    ((v[2:, 1:-1] - v[0:-2, 1:-1]) / (2 * dy))**2)                         \n",
    "    # Periodic BC Pressure @ x = 2\n",
    "    b[1:-1, -1] = rho * (1 / dt * (( u[1:-1,0]-u[1:-1,-2])/(2 * dx) +\n",
    "                                     (v[2:, -1] - v[0:-2, -1]) / (2 * dy)) -\n",
    "                                    ((u[1:-1, 0] - u[1:-1, -2]) / (2 * dx))**2 -\n",
    "                                    2 * ((u[2:, -1]  - u[0:-2, -1]) / (2 * dy) *\n",
    "                                         (v[1:-1, 0] - v[1:-1, -2]) / (2 * dx)) -\n",
    "                                    ((v[2:, -1] - v[0:-2, -1]) / (2 * dy))**2)\n",
    "    # Periodic BC Pressure @ x = 0\n",
    "    b[1:-1, 0] = rho * (1 / dt * (( u[1:-1,1]-u[1:-1,-1])/(2 * dx) +\n",
    "                                     (v[2:, 0] - v[0:-2, 0]) / (2 * dy)) -\n",
    "                                    ((u[1:-1, 1] - u[1:-1, -1]) / (2 * dx))**2 -\n",
    "                                    2 * ((u[2:, 0]  - u[0:-2, 0]) / (2 * dy) *\n",
    "                                         (v[1:-1, 1] - v[1:-1, -1]) / (2 * dx)) -\n",
    "                                    ((v[2:, 0] - v[0:-2, 0]) / (2 * dy))**2)    \n",
    "    \n",
    "\n",
    "    return b"
   ]
  }
 ],
 "metadata": {
  "kernelspec": {
   "display_name": "py310",
   "language": "python",
   "name": "python3"
  },
  "language_info": {
   "codemirror_mode": {
    "name": "ipython",
    "version": 3
   },
   "file_extension": ".py",
   "mimetype": "text/x-python",
   "name": "python",
   "nbconvert_exporter": "python",
   "pygments_lexer": "ipython3",
   "version": "3.10.6"
  },
  "orig_nbformat": 4
 },
 "nbformat": 4,
 "nbformat_minor": 2
}
